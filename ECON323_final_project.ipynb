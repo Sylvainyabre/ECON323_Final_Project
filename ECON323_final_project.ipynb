{
 "cells": [
  {
   "cell_type": "markdown",
   "id": "da29674a-a84a-4ceb-81fc-ba9e5682bbaf",
   "metadata": {},
   "source": [
    "# Final Project"
   ]
  },
  {
   "cell_type": "code",
   "execution_count": null,
   "id": "8a59fa9a-4872-45f9-8699-c3e6fa9bb2d3",
   "metadata": {},
   "outputs": [],
   "source": [
    "import pandas as pd\n",
    "pip install -U ipykerne"
   ]
  },
  {
   "cell_type": "code",
   "execution_count": null,
   "id": "8fc9bdee",
   "metadata": {},
   "outputs": [],
   "source": [
    "data = pd.read(\"data.csv\")\n",
    "data.head()\n"
   ]
  }
 ],
 "metadata": {
  "kernelspec": {
   "display_name": "Python 3 (ipykernel)",
   "language": "python",
   "name": "python3"
  },
  "language_info": {
   "codemirror_mode": {
    "name": "ipython",
    "version": 3
   },
   "file_extension": ".py",
   "mimetype": "text/x-python",
   "name": "python",
   "nbconvert_exporter": "python",
   "pygments_lexer": "ipython3",
   "version": "3.11.3"
  }
 },
 "nbformat": 4,
 "nbformat_minor": 5
}
